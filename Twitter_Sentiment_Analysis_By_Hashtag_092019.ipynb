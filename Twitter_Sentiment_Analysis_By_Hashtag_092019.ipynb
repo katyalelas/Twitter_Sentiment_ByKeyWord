{
 "cells": [
  {
   "cell_type": "code",
   "execution_count": null,
   "metadata": {},
   "outputs": [],
   "source": [
    "# tweets=api.user_timeline(screen_name='RealDonaldTrump', count=20)\n",
    "#print(tweets)"
   ]
  },
  {
   "cell_type": "code",
   "execution_count": 2,
   "metadata": {},
   "outputs": [],
   "source": [
    "import pandas as pd\n",
    "import numpy as np\n",
    "import matplotlib.pyplot as plt\n",
    "%matplotlib inline\n",
    "import tweepy\n",
    "from textblob import TextBlob\n",
    "from wordcloud import WordCloud, STOPWORDS\n",
    "import re"
   ]
  },
  {
   "cell_type": "code",
   "execution_count": 3,
   "metadata": {},
   "outputs": [],
   "source": [
    "ACCESS_TOKEN=\"1114257900657106945-1dCAiAhqC8Dn7N0SYchfrcPBJNnO3R\"\n",
    "ACCESS_TOKEN_SECRET=\"9q6svuksiWxwxYggI5hVWgY8ZLrXESSMUAnGYNkEp97By\"\n",
    "CONSUMER_SECRET=\"g4CkmDKmbv2jNxm2yQOmth8NWOthgCgDSZGP1vBRuP5v4g6ZhD\"\n",
    "CONSUMER_KEY=\"eOqXos4xUTFpuv0uxPYCvRIpH\""
   ]
  },
  {
   "cell_type": "code",
   "execution_count": 4,
   "metadata": {},
   "outputs": [],
   "source": [
    "def twitter_setup():\n",
    "    # Authentication and access using keys:\n",
    "    auth = tweepy.OAuthHandler(CONSUMER_KEY, CONSUMER_SECRET) # Authorization to consumer key and consumer secret\n",
    "    auth.set_access_token(ACCESS_TOKEN, ACCESS_TOKEN_SECRET) # Access to user's access key and access secret \n",
    "    api = tweepy.API(auth)  # Return API with authentication:\n",
    "    return api"
   ]
  },
  {
   "cell_type": "code",
   "execution_count": 129,
   "metadata": {},
   "outputs": [
    {
     "name": "stdout",
     "output_type": "stream",
     "text": [
      "Enter hashtag to search about:#DontCallMeAngel\n"
     ]
    }
   ],
   "source": [
    "hashtag=input('Enter hashtag to search about:')"
   ]
  },
  {
   "cell_type": "code",
   "execution_count": 130,
   "metadata": {},
   "outputs": [
    {
     "name": "stdout",
     "output_type": "stream",
     "text": [
      "Number of tweets extracted: 100.\n",
      "\n"
     ]
    },
    {
     "data": {
      "image/png": "[encoded data removed]",
      "text/plain": [
       "<Figure size 432x288 with 1 Axes>"
      ]
     },
     "metadata": {},
     "output_type": "display_data"
    },
    {
     "data": {
      "text/html": [
       "<div>\n",
       "<style scoped>\n",
       "    .dataframe tbody tr th:only-of-type {\n",
       "        vertical-align: middle;\n",
       "    }\n",
       "\n",
       "    .dataframe tbody tr th {\n",
       "        vertical-align: top;\n",
       "    }\n",
       "\n",
       "    .dataframe thead th {\n",
       "        text-align: right;\n",
       "    }\n",
       "</style>\n",
       "<table border=\"1\" class=\"dataframe\">\n",
       "  <thead>\n",
       "    <tr style=\"text-align: right;\">\n",
       "      <th></th>\n",
       "      <th>Tweet</th>\n",
       "      <th>Sentiment</th>\n",
       "      <th>len</th>\n",
       "      <th>date</th>\n",
       "      <th>source</th>\n",
       "      <th>likes</th>\n",
       "      <th>retweets</th>\n",
       "      <th>user_id</th>\n",
       "      <th>user_name</th>\n",
       "      <th>number of followers</th>\n",
       "    </tr>\n",
       "  </thead>\n",
       "  <tbody>\n",
       "    <tr>\n",
       "      <th>0</th>\n",
       "      <td>Ariana Grande Twitter promoting Miley Cyrus Tw...</td>\n",
       "      <td>0.0</td>\n",
       "      <td>140</td>\n",
       "      <td>2019-09-13 15:30:46</td>\n",
       "      <td>Twitter for iPhone</td>\n",
       "      <td>0</td>\n",
       "      <td>655</td>\n",
       "      <td>1172533083200983040</td>\n",
       "      <td>whsofiia</td>\n",
       "      <td>3146</td>\n",
       "    </tr>\n",
       "    <tr>\n",
       "      <th>1</th>\n",
       "      <td>call them angels just blessed with collab Lis...</td>\n",
       "      <td>0.0</td>\n",
       "      <td>140</td>\n",
       "      <td>2019-09-13 15:30:43</td>\n",
       "      <td>Twitter for iPhone</td>\n",
       "      <td>0</td>\n",
       "      <td>1800</td>\n",
       "      <td>1172533070169354241</td>\n",
       "      <td>whsofiia</td>\n",
       "      <td>3146</td>\n",
       "    </tr>\n",
       "    <tr>\n",
       "      <th>2</th>\n",
       "      <td>unite Listen power collab</td>\n",
       "      <td>0.0</td>\n",
       "      <td>140</td>\n",
       "      <td>2019-09-13 15:30:43</td>\n",
       "      <td>Twitter for iPhone</td>\n",
       "      <td>0</td>\n",
       "      <td>2937</td>\n",
       "      <td>1172533070144004096</td>\n",
       "      <td>Christieng97</td>\n",
       "      <td>238</td>\n",
       "    </tr>\n",
       "    <tr>\n",
       "      <th>3</th>\n",
       "      <td>Ariana Grande Twitter promoting Miley Cyrus Tw...</td>\n",
       "      <td>0.0</td>\n",
       "      <td>140</td>\n",
       "      <td>2019-09-13 15:30:42</td>\n",
       "      <td>Twitter for iPhone</td>\n",
       "      <td>0</td>\n",
       "      <td>655</td>\n",
       "      <td>1172533068520919042</td>\n",
       "      <td>nfr_ary</td>\n",
       "      <td>249</td>\n",
       "    </tr>\n",
       "    <tr>\n",
       "      <th>4</th>\n",
       "      <td>director ariana gorgeous want video ariana</td>\n",
       "      <td>0.7</td>\n",
       "      <td>132</td>\n",
       "      <td>2019-09-13 15:30:42</td>\n",
       "      <td>Twitter for Android</td>\n",
       "      <td>0</td>\n",
       "      <td>171</td>\n",
       "      <td>1172533068017655808</td>\n",
       "      <td>airiananeedy</td>\n",
       "      <td>563</td>\n",
       "    </tr>\n",
       "  </tbody>\n",
       "</table>\n",
       "</div>"
      ],
      "text/plain": [
       "                                               Tweet  Sentiment  len  \\\n",
       "0  Ariana Grande Twitter promoting Miley Cyrus Tw...        0.0  140   \n",
       "1   call them angels just blessed with collab Lis...        0.0  140   \n",
       "2                         unite Listen power collab         0.0  140   \n",
       "3  Ariana Grande Twitter promoting Miley Cyrus Tw...        0.0  140   \n",
       "4        director ariana gorgeous want video ariana         0.7  132   \n",
       "\n",
       "                 date               source  likes  retweets  \\\n",
       "0 2019-09-13 15:30:46   Twitter for iPhone      0       655   \n",
       "1 2019-09-13 15:30:43   Twitter for iPhone      0      1800   \n",
       "2 2019-09-13 15:30:43   Twitter for iPhone      0      2937   \n",
       "3 2019-09-13 15:30:42   Twitter for iPhone      0       655   \n",
       "4 2019-09-13 15:30:42  Twitter for Android      0       171   \n",
       "\n",
       "               user_id     user_name  number of followers  \n",
       "0  1172533083200983040      whsofiia                 3146  \n",
       "1  1172533070169354241      whsofiia                 3146  \n",
       "2  1172533070144004096  Christieng97                  238  \n",
       "3  1172533068520919042       nfr_ary                  249  \n",
       "4  1172533068017655808  airiananeedy                  563  "
      ]
     },
     "execution_count": 130,
     "metadata": {},
     "output_type": "execute_result"
    }
   ],
   "source": [
    "# Extracting tweets by a key word\n",
    "extractor = twitter_setup()\n",
    "tweets = extractor.search(q=hashtag, count=500, lang='en')\n",
    "\n",
    "print(\"Number of tweets extracted: {}.\\n\".format(len(tweets)))\n",
    "\n",
    "# Creating a DataFrame with extracted tweets\n",
    "tweet_text=[]\n",
    "for tweet in tweets[:]:\n",
    "    text=TextBlob(tweet.text)\n",
    "    tweet_text.append(tweet.text)\n",
    "data_on_new_hashtag={'Tweet': tweet_text}\n",
    "df=pd.DataFrame(data_on_new_hashtag)\n",
    "\n",
    "# Tweets cleaning\n",
    "\n",
    "clean_tweets=[]\n",
    "for tweet in df.Tweet :\n",
    "    tweet=re.sub(r'@[A-Za-z0-9]+','',tweet) # Remove @username\n",
    "    tweet=re.sub('https?://[A-Za-z0-9./]+','', tweet) # Remove https links\n",
    "    tweet = re.sub(r'\\b\\w{1,3}\\b', '', tweet) # Remove small words\n",
    "    tweet = ''.join(c for c in tweet if c <= '\\uFFFF')  # Remove characters beyond Basic Multilingual Plane (BMP) of Unicode:\n",
    "    tweet = re.sub(r'\\&\\w*;', '', tweet) # Remove HTML special entities (e.g. &amp;)\n",
    "    tweet = re.sub('[!@$:]', '', tweet) # Remove some special characters\n",
    "    tweet = tweet.lstrip(' ') # Removing the blank space at the beginning\n",
    "    tweet = re.sub(r'#\\w*', '', tweet) # Remove hashtags\n",
    "    tweet=re.sub('[^A-Za-z0-9]+', ' ', tweet)\n",
    "    clean_tweets.append(tweet)\n",
    "    \n",
    "# Sentiment analysis on cleaned tweets\n",
    "\n",
    "neutral=0\n",
    "positive=0\n",
    "negative=0\n",
    "polarity=[]\n",
    "\n",
    "for tweet in clean_tweets:\n",
    "    text=TextBlob(tweet)\n",
    "    polarity.append(text.sentiment.polarity)\n",
    "\n",
    "# Assigning all values to three categories: positive, negative and neutral sentiment\n",
    "\n",
    "    if text.sentiment.polarity == 0:\n",
    "        neutral += 1 # The + operation adds the array elements to the original array.\n",
    "    elif text.sentiment.polarity > 0:\n",
    "        positive += 1\n",
    "    else: negative +=1\n",
    "        \n",
    "# Calculating the percentage of positive, negative and neutral sentiment\n",
    "\n",
    "neutral_percent=round(neutral/len(polarity)*100,2)\n",
    "positive_percent=round(positive/len(polarity)*100,2)\n",
    "negative_percent=round(negative/len(polarity)*100,2)\n",
    "\n",
    "# Plotting a pie chart\n",
    "labels='Positive '+str(positive_percent)+'%', 'Negative '+str(negative_percent)+'%', 'Neutral '+str(neutral_percent)+'%'\n",
    "sizes=[positive_percent, negative_percent, neutral_percent]\n",
    "plt.title('Sentiment analysis by keyword \"'+str(hashtag)+'\" of '+str(len(polarity))+' first tweets')\n",
    "plt.pie(sizes, labels=labels, shadow=True)\n",
    "\n",
    "plt.show()\n",
    "\n",
    "# Creating DataFrame (updating the previous one) with cleaned tweets and addtional interesting information on them \n",
    "\n",
    "df['Tweet']=clean_tweets\n",
    "df['Sentiment']=polarity\n",
    "df['len']=np.array([len(tweet.text) for tweet in tweets])\n",
    "df['date']=np.array([tweet.created_at for tweet in tweets])\n",
    "df['source']=np.array([tweet.source for tweet in tweets])\n",
    "df['likes']=np.array([tweet.favorite_count for tweet in tweets])\n",
    "df['retweets']=np.array([tweet.retweet_count for tweet in tweets])\n",
    "df['user_id']=np.array([tweet.id for tweet in tweets])\n",
    "df['user_name']= np.array([tweet.user._json['screen_name'] for tweet in tweets])\n",
    "df['number of followers']=np.array([tweet.user._json['followers_count'] for tweet in tweets])\n",
    "\n",
    "df.head()"
   ]
  },
  {
   "cell_type": "code",
   "execution_count": 142,
   "metadata": {},
   "outputs": [
    {
     "data": {
      "text/plain": [
       "7537948.38"
      ]
     },
     "execution_count": 142,
     "metadata": {},
     "output_type": "execute_result"
    }
   ],
   "source": [
    "df['calculated_field']=df.Sentiment*df['number of followers']*df.retweets\n",
    "df.sort_values(by='calculated_field', ascending=False)\n",
    "round(df.calculated_field.sum(),2)"
   ]
  },
  {
   "cell_type": "code",
   "execution_count": 153,
   "metadata": {},
   "outputs": [
    {
     "data": {
      "text/html": [
       "<div>\n",
       "<style scoped>\n",
       "    .dataframe tbody tr th:only-of-type {\n",
       "        vertical-align: middle;\n",
       "    }\n",
       "\n",
       "    .dataframe tbody tr th {\n",
       "        vertical-align: top;\n",
       "    }\n",
       "\n",
       "    .dataframe thead th {\n",
       "        text-align: right;\n",
       "    }\n",
       "</style>\n",
       "<table border=\"1\" class=\"dataframe\">\n",
       "  <thead>\n",
       "    <tr style=\"text-align: right;\">\n",
       "      <th></th>\n",
       "      <th>Tweet</th>\n",
       "      <th>Sentiment</th>\n",
       "      <th>len</th>\n",
       "      <th>date</th>\n",
       "      <th>source</th>\n",
       "      <th>likes</th>\n",
       "      <th>retweets</th>\n",
       "      <th>user_id</th>\n",
       "      <th>user_name</th>\n",
       "      <th>number of followers</th>\n",
       "      <th>calculated_field</th>\n",
       "    </tr>\n",
       "  </thead>\n",
       "  <tbody>\n",
       "    <tr>\n",
       "      <th>80</th>\n",
       "      <td>these bitches sickening</td>\n",
       "      <td>-0.900000</td>\n",
       "      <td>90</td>\n",
       "      <td>2019-09-13 15:29:52</td>\n",
       "      <td>Twitter for Android</td>\n",
       "      <td>0</td>\n",
       "      <td>596</td>\n",
       "      <td>1172532858621243392</td>\n",
       "      <td>steadofghostin_</td>\n",
       "      <td>370</td>\n",
       "      <td>-198468.000000</td>\n",
       "    </tr>\n",
       "    <tr>\n",
       "      <th>81</th>\n",
       "      <td>lana carrying rotisserie chicken knife vibe re...</td>\n",
       "      <td>-0.600000</td>\n",
       "      <td>140</td>\n",
       "      <td>2019-09-13 15:29:51</td>\n",
       "      <td>Twitter for iPhone</td>\n",
       "      <td>0</td>\n",
       "      <td>709</td>\n",
       "      <td>1172532855051902979</td>\n",
       "      <td>Kellyybenco</td>\n",
       "      <td>391</td>\n",
       "      <td>-166331.400000</td>\n",
       "    </tr>\n",
       "    <tr>\n",
       "      <th>51</th>\n",
       "      <td>lana carrying rotisserie chicken knife vibe re...</td>\n",
       "      <td>-0.600000</td>\n",
       "      <td>140</td>\n",
       "      <td>2019-09-13 15:30:13</td>\n",
       "      <td>Twitter for iPhone</td>\n",
       "      <td>0</td>\n",
       "      <td>709</td>\n",
       "      <td>1172532944981770240</td>\n",
       "      <td>donovanjw7</td>\n",
       "      <td>209</td>\n",
       "      <td>-88908.600000</td>\n",
       "    </tr>\n",
       "    <tr>\n",
       "      <th>34</th>\n",
       "      <td>SICK FUCKING Cyrus Miley 2019</td>\n",
       "      <td>-0.657143</td>\n",
       "      <td>105</td>\n",
       "      <td>2019-09-13 15:30:28</td>\n",
       "      <td>Twitter for Android</td>\n",
       "      <td>0</td>\n",
       "      <td>317</td>\n",
       "      <td>1172533008462680066</td>\n",
       "      <td>Agustiina_21</td>\n",
       "      <td>273</td>\n",
       "      <td>-56869.800000</td>\n",
       "    </tr>\n",
       "    <tr>\n",
       "      <th>6</th>\n",
       "      <td>name with little RESPECT</td>\n",
       "      <td>-0.187500</td>\n",
       "      <td>97</td>\n",
       "      <td>2019-09-13 15:30:42</td>\n",
       "      <td>Twitter Web App</td>\n",
       "      <td>0</td>\n",
       "      <td>133</td>\n",
       "      <td>1172533066079907840</td>\n",
       "      <td>thehungermiles</td>\n",
       "      <td>1768</td>\n",
       "      <td>-44089.500000</td>\n",
       "    </tr>\n",
       "    <tr>\n",
       "      <th>58</th>\n",
       "      <td>name with little RESPECT</td>\n",
       "      <td>-0.187500</td>\n",
       "      <td>97</td>\n",
       "      <td>2019-09-13 15:30:08</td>\n",
       "      <td>Twitter for iPhone</td>\n",
       "      <td>0</td>\n",
       "      <td>133</td>\n",
       "      <td>1172532923880431617</td>\n",
       "      <td>Lipeeking</td>\n",
       "      <td>644</td>\n",
       "      <td>-16059.750000</td>\n",
       "    </tr>\n",
       "    <tr>\n",
       "      <th>84</th>\n",
       "      <td>Lana Miley Cyrus Ariana Grande behind scenes</td>\n",
       "      <td>-0.400000</td>\n",
       "      <td>124</td>\n",
       "      <td>2019-09-13 15:29:51</td>\n",
       "      <td>Twitter for Android</td>\n",
       "      <td>0</td>\n",
       "      <td>26</td>\n",
       "      <td>1172532853902413824</td>\n",
       "      <td>Mayshmellow</td>\n",
       "      <td>1503</td>\n",
       "      <td>-15631.200000</td>\n",
       "    </tr>\n",
       "    <tr>\n",
       "      <th>7</th>\n",
       "      <td>Lana Miley Cyrus Ariana Grande behind scenes</td>\n",
       "      <td>-0.400000</td>\n",
       "      <td>124</td>\n",
       "      <td>2019-09-13 15:30:41</td>\n",
       "      <td>Twitter for iPhone</td>\n",
       "      <td>0</td>\n",
       "      <td>26</td>\n",
       "      <td>1172533062229348353</td>\n",
       "      <td>ysadelrey</td>\n",
       "      <td>911</td>\n",
       "      <td>-9474.400000</td>\n",
       "    </tr>\n",
       "    <tr>\n",
       "      <th>13</th>\n",
       "      <td>appreciate watch drop down pick back county line</td>\n",
       "      <td>-0.077778</td>\n",
       "      <td>140</td>\n",
       "      <td>2019-09-13 15:30:39</td>\n",
       "      <td>Twitter for iPhone</td>\n",
       "      <td>0</td>\n",
       "      <td>4</td>\n",
       "      <td>1172533054239399937</td>\n",
       "      <td>DanielsonSerrao</td>\n",
       "      <td>22465</td>\n",
       "      <td>-6989.111111</td>\n",
       "    </tr>\n",
       "    <tr>\n",
       "      <th>42</th>\n",
       "      <td>Lana Miley Cyrus Ariana Grande behind scenes</td>\n",
       "      <td>-0.400000</td>\n",
       "      <td>124</td>\n",
       "      <td>2019-09-13 15:30:23</td>\n",
       "      <td>Twitter for iPhone</td>\n",
       "      <td>0</td>\n",
       "      <td>26</td>\n",
       "      <td>1172532987637858304</td>\n",
       "      <td>_alerievaay</td>\n",
       "      <td>360</td>\n",
       "      <td>-3744.000000</td>\n",
       "    </tr>\n",
       "  </tbody>\n",
       "</table>\n",
       "</div>"
      ],
      "text/plain": [
       "                                                Tweet  Sentiment  len  \\\n",
       "80                           these bitches sickening   -0.900000   90   \n",
       "81  lana carrying rotisserie chicken knife vibe re...  -0.600000  140   \n",
       "51  lana carrying rotisserie chicken knife vibe re...  -0.600000  140   \n",
       "34                     SICK FUCKING Cyrus Miley 2019   -0.657143  105   \n",
       "6                           name with little RESPECT   -0.187500   97   \n",
       "58                          name with little RESPECT   -0.187500   97   \n",
       "84      Lana Miley Cyrus Ariana Grande behind scenes   -0.400000  124   \n",
       "7       Lana Miley Cyrus Ariana Grande behind scenes   -0.400000  124   \n",
       "13  appreciate watch drop down pick back county line   -0.077778  140   \n",
       "42      Lana Miley Cyrus Ariana Grande behind scenes   -0.400000  124   \n",
       "\n",
       "                  date               source  likes  retweets  \\\n",
       "80 2019-09-13 15:29:52  Twitter for Android      0       596   \n",
       "81 2019-09-13 15:29:51   Twitter for iPhone      0       709   \n",
       "51 2019-09-13 15:30:13   Twitter for iPhone      0       709   \n",
       "34 2019-09-13 15:30:28  Twitter for Android      0       317   \n",
       "6  2019-09-13 15:30:42      Twitter Web App      0       133   \n",
       "58 2019-09-13 15:30:08   Twitter for iPhone      0       133   \n",
       "84 2019-09-13 15:29:51  Twitter for Android      0        26   \n",
       "7  2019-09-13 15:30:41   Twitter for iPhone      0        26   \n",
       "13 2019-09-13 15:30:39   Twitter for iPhone      0         4   \n",
       "42 2019-09-13 15:30:23   Twitter for iPhone      0        26   \n",
       "\n",
       "                user_id        user_name  number of followers  \\\n",
       "80  1172532858621243392  steadofghostin_                  370   \n",
       "81  1172532855051902979      Kellyybenco                  391   \n",
       "51  1172532944981770240       donovanjw7                  209   \n",
       "34  1172533008462680066     Agustiina_21                  273   \n",
       "6   1172533066079907840   thehungermiles                 1768   \n",
       "58  1172532923880431617        Lipeeking                  644   \n",
       "84  1172532853902413824      Mayshmellow                 1503   \n",
       "7   1172533062229348353        ysadelrey                  911   \n",
       "13  1172533054239399937  DanielsonSerrao                22465   \n",
       "42  1172532987637858304      _alerievaay                  360   \n",
       "\n",
       "    calculated_field  \n",
       "80    -198468.000000  \n",
       "81    -166331.400000  \n",
       "51     -88908.600000  \n",
       "34     -56869.800000  \n",
       "6      -44089.500000  \n",
       "58     -16059.750000  \n",
       "84     -15631.200000  \n",
       "7       -9474.400000  \n",
       "13      -6989.111111  \n",
       "42      -3744.000000  "
      ]
     },
     "execution_count": 153,
     "metadata": {},
     "output_type": "execute_result"
    }
   ],
   "source": [
    "df.nsmallest(10, 'calculated_field')"
   ]
  },
  {
   "cell_type": "code",
   "execution_count": 156,
   "metadata": {},
   "outputs": [
    {
     "data": {
      "text/plain": [
       "-0.9"
      ]
     },
     "execution_count": 156,
     "metadata": {},
     "output_type": "execute_result"
    }
   ],
   "source": [
    "df.Sentiment.min()"
   ]
  },
  {
   "cell_type": "code",
   "execution_count": 114,
   "metadata": {},
   "outputs": [],
   "source": [
    "import nltk"
   ]
  },
  {
   "cell_type": "code",
   "execution_count": 118,
   "metadata": {},
   "outputs": [
    {
     "data": {
      "text/plain": [
       "[['song', 'trash', 'catchy', 'except', 'part'],\n",
       " [],\n",
       " ['calling', 'angels', 'music', 'video', 'stream', 'watch', 'http'],\n",
       " ['take', 'moment', 'appreciate', 'miley', 'arms', 'holy', 'fuck'],\n",
       " ['video', 'shoot', 'everywhere']]"
      ]
     },
     "execution_count": 118,
     "metadata": {},
     "output_type": "execute_result"
    }
   ],
   "source": [
    "#Tokenization (splitting text into a list of words) \n",
    "from nltk.tokenize import TweetTokenizer\n",
    "tweet_tokenizer = TweetTokenizer(preserve_case=False, strip_handles=True, reduce_len=True)\n",
    " \n",
    "tokenized_tweets=[]\n",
    "for tweet in clean_tweets:\n",
    "    tokenized_tweets.append(tweet_tokenizer.tokenize(tweet))\n",
    "tokenized_tweets[:5]"
   ]
  },
  {
   "cell_type": "code",
   "execution_count": 127,
   "metadata": {},
   "outputs": [],
   "source": [
    "import itertools\n",
    "merged = list(itertools.chain.from_iterable(tokenized_tweets))"
   ]
  },
  {
   "cell_type": "code",
   "execution_count": 121,
   "metadata": {},
   "outputs": [],
   "source": [
    "from collections import Counter"
   ]
  },
  {
   "cell_type": "code",
   "execution_count": 128,
   "metadata": {},
   "outputs": [
    {
     "data": {
      "text/plain": [
       "[('video', 21),\n",
       " ('lana', 20),\n",
       " ('song', 13),\n",
       " ('ariana', 12),\n",
       " ('miley', 11),\n",
       " ('music', 10),\n",
       " ('angel', 9),\n",
       " ('that', 8),\n",
       " ('call', 8),\n",
       " ('angels', 7)]"
      ]
     },
     "execution_count": 128,
     "metadata": {},
     "output_type": "execute_result"
    }
   ],
   "source": [
    "Counter(merged).most_common(10)\n",
    "#To see from positive and negative the difference"
   ]
  },
  {
   "cell_type": "code",
   "execution_count": 154,
   "metadata": {},
   "outputs": [],
   "source": [
    "#np.array([tweet.entities['hashtags'] for tweet in tweets])"
   ]
  },
  {
   "cell_type": "code",
   "execution_count": 157,
   "metadata": {},
   "outputs": [
    {
     "data": {
      "image/png": "[encoded data removed]",
      "text/plain": [
       "<Figure size 720x720 with 1 Axes>"
      ]
     },
     "metadata": {},
     "output_type": "display_data"
    }
   ],
   "source": [
    "comment_words = ' ' #We will be appending the words to this var\n",
    "stopwords = set(STOPWORDS) #Finds all stop words in the set of tweets.\n",
    "for val in df.Tweet:\n",
    "   val = str(val) #convert all tweet content into strings\n",
    "   tokens = val.split() #Split all strings into individual components\n",
    "   for i in range(len(tokens)):\n",
    "      tokens[i] = tokens[i].lower() #Converts all the individual strings to lower case.\n",
    "for words in tokens:\n",
    "   comment_words = comment_words + words + ' '\n",
    "wordcloud=WordCloud(width=1000,height=1000, background_color='pink', stopwords=stopwords,min_font_size=6).generate(comment_words)\n",
    "#All of this is a single line\n",
    "plt.style.use('ggplot')\n",
    "plt.figure(figsize=(10,10),facecolor=None)\n",
    "plt.imshow(wordcloud)\n",
    "plt.axis(\"off\")\n",
    "plt.tight_layout(pad=0)\n",
    "plt.show()"
   ]
  },
  {
   "cell_type": "code",
   "execution_count": 160,
   "metadata": {},
   "outputs": [
    {
     "data": {
      "text/plain": [
       "Timedelta('0 days 00:01:07')"
      ]
     },
     "execution_count": 160,
     "metadata": {},
     "output_type": "execute_result"
    }
   ],
   "source": [
    "df.date.max()-df.date.min()"
   ]
  },
  {
   "cell_type": "code",
   "execution_count": 165,
   "metadata": {},
   "outputs": [
    {
     "data": {
      "text/html": [
       "<div>\n",
       "<style scoped>\n",
       "    .dataframe tbody tr th:only-of-type {\n",
       "        vertical-align: middle;\n",
       "    }\n",
       "\n",
       "    .dataframe tbody tr th {\n",
       "        vertical-align: top;\n",
       "    }\n",
       "\n",
       "    .dataframe thead th {\n",
       "        text-align: right;\n",
       "    }\n",
       "</style>\n",
       "<table border=\"1\" class=\"dataframe\">\n",
       "  <thead>\n",
       "    <tr style=\"text-align: right;\">\n",
       "      <th></th>\n",
       "      <th>Tweets</th>\n",
       "      <th>len</th>\n",
       "      <th>date</th>\n",
       "      <th>source</th>\n",
       "      <th>likes</th>\n",
       "      <th>retweets</th>\n",
       "      <th>polarity</th>\n",
       "    </tr>\n",
       "  </thead>\n",
       "  <tbody>\n",
       "    <tr>\n",
       "      <th>0</th>\n",
       "      <td>RT @thereidfeed: Ariana Grande: *on Twitter pr...</td>\n",
       "      <td>140</td>\n",
       "      <td>2019-09-13 15:30:46</td>\n",
       "      <td>Twitter for iPhone</td>\n",
       "      <td>0</td>\n",
       "      <td>655</td>\n",
       "      <td>0.0</td>\n",
       "    </tr>\n",
       "    <tr>\n",
       "      <th>1</th>\n",
       "      <td>RT @Spotify: Don't call them angels 👼🏼👼🏼👼🏼\\n@A...</td>\n",
       "      <td>140</td>\n",
       "      <td>2019-09-13 15:30:43</td>\n",
       "      <td>Twitter for iPhone</td>\n",
       "      <td>0</td>\n",
       "      <td>1800</td>\n",
       "      <td>0.0</td>\n",
       "    </tr>\n",
       "    <tr>\n",
       "      <th>2</th>\n",
       "      <td>RT @AppleMusic: .@ArianaGrande x @MileyCyrus x...</td>\n",
       "      <td>140</td>\n",
       "      <td>2019-09-13 15:30:43</td>\n",
       "      <td>Twitter for iPhone</td>\n",
       "      <td>0</td>\n",
       "      <td>2937</td>\n",
       "      <td>0.0</td>\n",
       "    </tr>\n",
       "    <tr>\n",
       "      <th>3</th>\n",
       "      <td>RT @thereidfeed: Ariana Grande: *on Twitter pr...</td>\n",
       "      <td>140</td>\n",
       "      <td>2019-09-13 15:30:42</td>\n",
       "      <td>Twitter for iPhone</td>\n",
       "      <td>0</td>\n",
       "      <td>655</td>\n",
       "      <td>0.0</td>\n",
       "    </tr>\n",
       "    <tr>\n",
       "      <th>4</th>\n",
       "      <td>RT @ag5leaks1: director: ariana how gorgeous d...</td>\n",
       "      <td>132</td>\n",
       "      <td>2019-09-13 15:30:42</td>\n",
       "      <td>Twitter for Android</td>\n",
       "      <td>0</td>\n",
       "      <td>171</td>\n",
       "      <td>0.7</td>\n",
       "    </tr>\n",
       "  </tbody>\n",
       "</table>\n",
       "</div>"
      ],
      "text/plain": [
       "                                              Tweets  len                date  \\\n",
       "0  RT @thereidfeed: Ariana Grande: *on Twitter pr...  140 2019-09-13 15:30:46   \n",
       "1  RT @Spotify: Don't call them angels 👼🏼👼🏼👼🏼\\n@A...  140 2019-09-13 15:30:43   \n",
       "2  RT @AppleMusic: .@ArianaGrande x @MileyCyrus x...  140 2019-09-13 15:30:43   \n",
       "3  RT @thereidfeed: Ariana Grande: *on Twitter pr...  140 2019-09-13 15:30:42   \n",
       "4  RT @ag5leaks1: director: ariana how gorgeous d...  132 2019-09-13 15:30:42   \n",
       "\n",
       "                source  likes  retweets  polarity  \n",
       "0   Twitter for iPhone      0       655       0.0  \n",
       "1   Twitter for iPhone      0      1800       0.0  \n",
       "2   Twitter for iPhone      0      2937       0.0  \n",
       "3   Twitter for iPhone      0       655       0.0  \n",
       "4  Twitter for Android      0       171       0.7  "
      ]
     },
     "execution_count": 165,
     "metadata": {},
     "output_type": "execute_result"
    }
   ],
   "source": [
    "# def tweets_to_data_frame(self, tweets):\n",
    "df=pd.DataFrame(data=[tweet.text for tweet in tweets], columns=['Tweets'])\n",
    "        \n",
    "#df['id'] = np.array([tweet.id for tweet in tweets])\n",
    "df['len']=np.array([len(tweet.text) for tweet in tweets])\n",
    "df['date']=np.array([tweet.created_at for tweet in tweets])\n",
    "df['source']=np.array([tweet.source for tweet in tweets])\n",
    "df['likes']=np.array([tweet.favorite_count for tweet in tweets])\n",
    "df['retweets']=np.array([tweet.retweet_count for tweet in tweets])\n",
    "df['polarity']=polarity\n",
    "        \n",
    "df.head()"
   ]
  }
 ],
 "metadata": {
  "kernelspec": {
   "display_name": "Python 3",
   "language": "python",
   "name": "python3"
  },
  "language_info": {
   "codemirror_mode": {
    "name": "ipython",
    "version": 3
   },
   "file_extension": ".py",
   "mimetype": "text/x-python",
   "name": "python",
   "nbconvert_exporter": "python",
   "pygments_lexer": "ipython3",
   "version": "3.7.3"
  }
 },
 "nbformat": 4,
 "nbformat_minor": 2
}
